{
 "cells": [
  {
   "cell_type": "markdown",
   "id": "a44d7a5d-9d89-47ba-ac4b-567f7edc78ae",
   "metadata": {},
   "source": [
    "<p style=\"text-align:center\">\n",
    "    <a href=\"https://skills.network\" target=\"_blank\">\n",
    "    <img src=\"https://cf-courses-data.s3.us.cloud-object-storage.appdomain.cloud/assets/logos/SN_web_lightmode.png\" width=\"200\" alt=\"Skills Network Logo\">\n",
    "    </a>\n",
    "</p>\n"
   ]
  },
  {
   "cell_type": "markdown",
   "id": "eab1bbd9-2c79-42a0-ad71-a5dbeb7c0a83",
   "metadata": {},
   "source": [
    "# RAG with PyTorch\n",
    "Estimated time needed: **60** minutes\n",
    "\n",
    "\n",
    "\n",
    "## Introduction\n",
    "As a machine learning engineer hired by a social media company, your task is determining whether songs shared on the platform are appropriate for children. Given the high costs associated with processing each song using large language models (LLMs) for content evaluation, an alternative method using retrieval-augmented generation (RAG) is proposed. RAG combines the benefits of a retriever model, which fetches relevant information (in this case, embeddings of pre-answered content appropriateness questions), and a generator model, which uses this information to predict the appropriateness of new content. This approach efficiently scales the evaluation process while ensuring that each song's content is scrutinized for child safety without the overhead of running a full LLM for each song.\n",
    "\n",
    "![A big yellow bird puppet and a purple dinosaur puppet singing next to a rapper and a metal band singer](https://cf-courses-data.s3.us.cloud-object-storage.appdomain.cloud/MGy9JGkmyNnnTPqNlXk2uw/The%20scene%20is%20lively%20and%20colorful.jpg)\n"
   ]
  },
  {
   "cell_type": "markdown",
   "id": "c3c4c522-6b3f-4a92-a1b7-f68306a6a816",
   "metadata": {},
   "source": [
    "# __Table of Contents__\n",
    "\n",
    "<ol>\n",
    "    <li><a href=\"#Objectives\">Objectives</a></li>\n",
    "    <li>\n",
    "        <a href=\"#Setup\">Setup</a>\n",
    "        <ol>\n",
    "            <li><a href=\"#Installing-required-libraries\">Installing required libraries</a></li>\n",
    "            <li><a href=\"#Importing-required-libraries\">Importing required libraries</a></li>\n",
    "            <li><a href=\"#Defining-helper-functions\">Defining helper functions</a></li>\n",
    "        </ol>\n",
    "    </li>\n",
    "    <li>\n",
    "        <a href=\"#Embeddings-using-BERT-and-PyTorch-Hub\">Embeddings using BERT and PyTorch Hub</a>\n",
    "        <ol>\n",
    "            <li><a href=\"#Loading-tokenizer-and-model\">Loading tokenizer and model</a>\n",
    "                <ol>\n",
    "                    <li><a href=\"#Tokenization\">Tokenization</a></li>\n",
    "                    <li><a href=\"#Text-decoding-and-verification\">Text decoding and verification</a></li>\n",
    "                    <li><a href=\"#Device-and-Convert-Tensor\">Device and Convert Tensor</a></li>\n",
    "                    <li><a href=\"#Loading-the-BERT-model\">Loading the BERT model</a></li>\n",
    "                    <li><a href=\"#Generating-aggregated-mean-embeddings-using-BERT-for-RAG\">Generating aggregated mean embeddings using BERT for RAG</a></li>\n",
    "                </ol>\n",
    "            </li>\n",
    "        </ol>\n",
    "    </li>\n",
    "    <li><a href=\"#Convert-questions-and-the-song-lyrics-into-embeddings\">Convert questions and the song lyrics into embeddings</a></li>\n",
    "    <li><a href=\"#Understanding-the-dot-product\">Understanding the dot product</a></li>\n",
    "    <li>\n",
    "        <a href=\"#Exercise\">Exercise</a>\n",
    "        <ol>\n",
    "            <li><a href=\"#Task-description\">Task description</a></li>\n",
    "        </ol>\n",
    "    </li>\n",
    "</ol>\n"
   ]
  },
  {
   "cell_type": "markdown",
   "id": "f9e5935a-b7d6-4917-bb0d-2f36babb9259",
   "metadata": {},
   "source": [
    "---\n"
   ]
  },
  {
   "cell_type": "markdown",
   "id": "24534377-0775-45e9-832b-5642aac34b7c",
   "metadata": {},
   "source": [
    "# Objectives\n",
    "\n",
    "After completing this lab, you will be able to:\n",
    "\n",
    "- **Understand embedding techniques**: Learn how to generate and use embeddings from pre-trained models for natural language processing tasks.\n",
    "- **Use PyTorch and TorchHub**: Explore and apply functions from PyTorch and TorchHub to load and manipulate advanced machine learning models.\n",
    "- **Apply t-SNE for visualization**: Use t-SNE to visualize high-dimensional data in lower-dimensional spaces, enhancing understanding of data distribution and clustering.\n",
    "- **Fine-tuning language models**: Gain practical experience in fine-tuning pretrained language models for specific tasks, enhancing model performance on targeted datasets.\n",
    "- **Develop practical NLP solutions**: Implement a system that effectively uses Retriever and Generator architectures to answer queries, demonstrating an end-to-end workflow from model tuning to deployment.\n",
    "- **Implement cosine similarity**: Replace dot product similarity measures with cosine similarity to improve relevance detection in response generation systems.\n",
    "- **Evaluate model performance**: Assess the impact of using cosine similarity over dot product in terms of retrieval accuracy and relevance in a QA system.\n"
   ]
  },
  {
   "cell_type": "markdown",
   "id": "0203c75d-2336-4a7e-81f4-e3d772fac32f",
   "metadata": {},
   "source": [
    "---\n"
   ]
  },
  {
   "cell_type": "markdown",
   "id": "c6690e41-a590-4266-8325-2f464e704411",
   "metadata": {},
   "source": [
    "# Setup\n"
   ]
  },
  {
   "cell_type": "markdown",
   "id": "68cf3f15-4ede-4189-8297-fcfa749d3189",
   "metadata": {},
   "source": [
    "\n"
   ]
  },
  {
   "cell_type": "markdown",
   "id": "bb3c4e4b-e964-4bda-a3d5-87b89d63c805",
   "metadata": {},
   "source": [
    "### Installing required libraries\n"
   ]
  },
  {
   "cell_type": "markdown",
   "id": "6b652a5a-40c5-4344-a8aa-0c2a97d944da",
   "metadata": {},
   "source": [
    "For this lab, you will be using the following libraries. These libraries are __not__ pre-installed in the Skills Network Labs environment. __You will need to run the following cell__ to install them:\n",
    "\n",
    "***Note : After installing please ensure that you restart the kernel and execute the subsequent cells.***\n"
   ]
  },
  {
   "cell_type": "code",
   "execution_count": 1,
   "id": "a73adf10-2927-4aaf-b06b-179811c92673",
   "metadata": {},
   "outputs": [
    {
     "name": "stdout",
     "output_type": "stream",
     "text": [
      "Collecting numpy\n",
      "  Using cached numpy-2.2.4-cp312-cp312-win_amd64.whl.metadata (60 kB)\n",
      "Using cached numpy-2.2.4-cp312-cp312-win_amd64.whl (12.6 MB)\n",
      "Installing collected packages: numpy\n",
      "Successfully installed numpy-2.2.4\n"
     ]
    },
    {
     "name": "stderr",
     "output_type": "stream",
     "text": [
      "\n",
      "[notice] A new release of pip is available: 24.3.1 -> 25.0.1\n",
      "[notice] To update, run: python.exe -m pip install --upgrade pip\n"
     ]
    },
    {
     "name": "stdout",
     "output_type": "stream",
     "text": [
      "Collecting torch==2.2.0\n",
      "  Using cached torch-2.2.0-cp312-cp312-win_amd64.whl.metadata (26 kB)\n",
      "Collecting filelock (from torch==2.2.0)\n",
      "  Downloading filelock-3.18.0-py3-none-any.whl.metadata (2.9 kB)\n",
      "Collecting typing-extensions>=4.8.0 (from torch==2.2.0)\n",
      "  Using cached typing_extensions-4.12.2-py3-none-any.whl.metadata (3.0 kB)\n",
      "Collecting sympy (from torch==2.2.0)\n",
      "  Using cached sympy-1.13.3-py3-none-any.whl.metadata (12 kB)\n",
      "Collecting networkx (from torch==2.2.0)\n",
      "  Using cached networkx-3.4.2-py3-none-any.whl.metadata (6.3 kB)\n",
      "Collecting jinja2 (from torch==2.2.0)\n",
      "  Downloading jinja2-3.1.6-py3-none-any.whl.metadata (2.9 kB)\n",
      "Collecting fsspec (from torch==2.2.0)\n",
      "  Downloading fsspec-2025.3.0-py3-none-any.whl.metadata (11 kB)\n",
      "Collecting MarkupSafe>=2.0 (from jinja2->torch==2.2.0)\n",
      "  Using cached MarkupSafe-3.0.2-cp312-cp312-win_amd64.whl.metadata (4.1 kB)\n",
      "Collecting mpmath<1.4,>=1.1.0 (from sympy->torch==2.2.0)\n",
      "  Using cached mpmath-1.3.0-py3-none-any.whl.metadata (8.6 kB)\n",
      "Using cached torch-2.2.0-cp312-cp312-win_amd64.whl (198.5 MB)\n",
      "Using cached typing_extensions-4.12.2-py3-none-any.whl (37 kB)\n",
      "Downloading filelock-3.18.0-py3-none-any.whl (16 kB)\n",
      "Downloading fsspec-2025.3.0-py3-none-any.whl (193 kB)\n",
      "Downloading jinja2-3.1.6-py3-none-any.whl (134 kB)\n",
      "Using cached networkx-3.4.2-py3-none-any.whl (1.7 MB)\n",
      "Using cached sympy-1.13.3-py3-none-any.whl (6.2 MB)\n",
      "Using cached MarkupSafe-3.0.2-cp312-cp312-win_amd64.whl (15 kB)\n",
      "Using cached mpmath-1.3.0-py3-none-any.whl (536 kB)\n",
      "Installing collected packages: mpmath, typing-extensions, sympy, networkx, MarkupSafe, fsspec, filelock, jinja2, torch\n",
      "Successfully installed MarkupSafe-3.0.2 filelock-3.18.0 fsspec-2025.3.0 jinja2-3.1.6 mpmath-1.3.0 networkx-3.4.2 sympy-1.13.3 torch-2.2.0 typing-extensions-4.12.2\n"
     ]
    },
    {
     "name": "stderr",
     "output_type": "stream",
     "text": [
      "\n",
      "[notice] A new release of pip is available: 24.3.1 -> 25.0.1\n",
      "[notice] To update, run: python.exe -m pip install --upgrade pip\n"
     ]
    },
    {
     "name": "stdout",
     "output_type": "stream",
     "text": [
      "Collecting sacremoses==0.1.1\n",
      "  Using cached sacremoses-0.1.1-py3-none-any.whl.metadata (8.3 kB)\n",
      "Collecting regex (from sacremoses==0.1.1)\n",
      "  Using cached regex-2024.11.6-cp312-cp312-win_amd64.whl.metadata (41 kB)\n",
      "Collecting click (from sacremoses==0.1.1)\n",
      "  Using cached click-8.1.8-py3-none-any.whl.metadata (2.3 kB)\n",
      "Collecting joblib (from sacremoses==0.1.1)\n",
      "  Using cached joblib-1.4.2-py3-none-any.whl.metadata (5.4 kB)\n",
      "Collecting tqdm (from sacremoses==0.1.1)\n",
      "  Using cached tqdm-4.67.1-py3-none-any.whl.metadata (57 kB)\n",
      "Requirement already satisfied: colorama in d:\\course\\ibmgenai\\05_rag\\env\\lib\\site-packages (from click->sacremoses==0.1.1) (0.4.6)\n",
      "Using cached sacremoses-0.1.1-py3-none-any.whl (897 kB)\n",
      "Using cached click-8.1.8-py3-none-any.whl (98 kB)\n",
      "Using cached joblib-1.4.2-py3-none-any.whl (301 kB)\n",
      "Using cached regex-2024.11.6-cp312-cp312-win_amd64.whl (273 kB)\n",
      "Using cached tqdm-4.67.1-py3-none-any.whl (78 kB)\n",
      "Installing collected packages: tqdm, regex, joblib, click, sacremoses\n",
      "Successfully installed click-8.1.8 joblib-1.4.2 regex-2024.11.6 sacremoses-0.1.1 tqdm-4.67.1\n"
     ]
    },
    {
     "name": "stderr",
     "output_type": "stream",
     "text": [
      "\n",
      "[notice] A new release of pip is available: 24.3.1 -> 25.0.1\n",
      "[notice] To update, run: python.exe -m pip install --upgrade pip\n"
     ]
    },
    {
     "name": "stdout",
     "output_type": "stream",
     "text": [
      "Collecting torchtext\n",
      "  Using cached torchtext-0.18.0-cp312-cp312-win_amd64.whl.metadata (7.9 kB)\n",
      "Requirement already satisfied: tqdm in d:\\course\\ibmgenai\\05_rag\\env\\lib\\site-packages (from torchtext) (4.67.1)\n",
      "Collecting requests (from torchtext)\n",
      "  Using cached requests-2.32.3-py3-none-any.whl.metadata (4.6 kB)\n",
      "Collecting torch>=2.3.0 (from torchtext)\n",
      "  Using cached torch-2.6.0-cp312-cp312-win_amd64.whl.metadata (28 kB)\n",
      "Requirement already satisfied: numpy in d:\\course\\ibmgenai\\05_rag\\env\\lib\\site-packages (from torchtext) (2.2.4)\n",
      "Requirement already satisfied: filelock in d:\\course\\ibmgenai\\05_rag\\env\\lib\\site-packages (from torch>=2.3.0->torchtext) (3.18.0)\n",
      "Requirement already satisfied: typing-extensions>=4.10.0 in d:\\course\\ibmgenai\\05_rag\\env\\lib\\site-packages (from torch>=2.3.0->torchtext) (4.12.2)\n",
      "Requirement already satisfied: networkx in d:\\course\\ibmgenai\\05_rag\\env\\lib\\site-packages (from torch>=2.3.0->torchtext) (3.4.2)\n",
      "Requirement already satisfied: jinja2 in d:\\course\\ibmgenai\\05_rag\\env\\lib\\site-packages (from torch>=2.3.0->torchtext) (3.1.6)\n",
      "Requirement already satisfied: fsspec in d:\\course\\ibmgenai\\05_rag\\env\\lib\\site-packages (from torch>=2.3.0->torchtext) (2025.3.0)\n",
      "Collecting setuptools (from torch>=2.3.0->torchtext)\n",
      "  Downloading setuptools-76.0.0-py3-none-any.whl.metadata (6.7 kB)\n",
      "Collecting sympy==1.13.1 (from torch>=2.3.0->torchtext)\n",
      "  Using cached sympy-1.13.1-py3-none-any.whl.metadata (12 kB)\n",
      "Requirement already satisfied: mpmath<1.4,>=1.1.0 in d:\\course\\ibmgenai\\05_rag\\env\\lib\\site-packages (from sympy==1.13.1->torch>=2.3.0->torchtext) (1.3.0)\n",
      "Collecting charset-normalizer<4,>=2 (from requests->torchtext)\n",
      "  Using cached charset_normalizer-3.4.1-cp312-cp312-win_amd64.whl.metadata (36 kB)\n",
      "Collecting idna<4,>=2.5 (from requests->torchtext)\n",
      "  Using cached idna-3.10-py3-none-any.whl.metadata (10 kB)\n",
      "Collecting urllib3<3,>=1.21.1 (from requests->torchtext)\n",
      "  Using cached urllib3-2.3.0-py3-none-any.whl.metadata (6.5 kB)\n",
      "Collecting certifi>=2017.4.17 (from requests->torchtext)\n",
      "  Using cached certifi-2025.1.31-py3-none-any.whl.metadata (2.5 kB)\n",
      "Requirement already satisfied: colorama in d:\\course\\ibmgenai\\05_rag\\env\\lib\\site-packages (from tqdm->torchtext) (0.4.6)\n",
      "Requirement already satisfied: MarkupSafe>=2.0 in d:\\course\\ibmgenai\\05_rag\\env\\lib\\site-packages (from jinja2->torch>=2.3.0->torchtext) (3.0.2)\n",
      "Using cached torchtext-0.18.0-cp312-cp312-win_amd64.whl (2.0 MB)\n",
      "Using cached torch-2.6.0-cp312-cp312-win_amd64.whl (204.1 MB)\n",
      "Using cached sympy-1.13.1-py3-none-any.whl (6.2 MB)\n",
      "Using cached requests-2.32.3-py3-none-any.whl (64 kB)\n",
      "Using cached certifi-2025.1.31-py3-none-any.whl (166 kB)\n",
      "Using cached charset_normalizer-3.4.1-cp312-cp312-win_amd64.whl (102 kB)\n",
      "Using cached idna-3.10-py3-none-any.whl (70 kB)\n",
      "Using cached urllib3-2.3.0-py3-none-any.whl (128 kB)\n",
      "Downloading setuptools-76.0.0-py3-none-any.whl (1.2 MB)\n",
      "   ---------------------------------------- 0.0/1.2 MB ? eta -:--:--\n",
      "   ---------------------------------------- 1.2/1.2 MB 15.7 MB/s eta 0:00:00\n",
      "Installing collected packages: urllib3, sympy, setuptools, idna, charset-normalizer, certifi, torch, requests, torchtext\n",
      "  Attempting uninstall: sympy\n",
      "    Found existing installation: sympy 1.13.3\n",
      "    Uninstalling sympy-1.13.3:\n",
      "      Successfully uninstalled sympy-1.13.3\n",
      "  Attempting uninstall: torch\n",
      "    Found existing installation: torch 2.2.0\n",
      "    Uninstalling torch-2.2.0:\n",
      "      Successfully uninstalled torch-2.2.0\n",
      "Successfully installed certifi-2025.1.31 charset-normalizer-3.4.1 idna-3.10 requests-2.32.3 setuptools-76.0.0 sympy-1.13.1 torch-2.6.0 torchtext-0.18.0 urllib3-2.3.0\n"
     ]
    },
    {
     "name": "stderr",
     "output_type": "stream",
     "text": [
      "\n",
      "[notice] A new release of pip is available: 24.3.1 -> 25.0.1\n",
      "[notice] To update, run: python.exe -m pip install --upgrade pip\n"
     ]
    },
    {
     "name": "stdout",
     "output_type": "stream",
     "text": [
      "Collecting transformers==4.40.2\n",
      "  Using cached transformers-4.40.2-py3-none-any.whl.metadata (137 kB)\n",
      "Requirement already satisfied: filelock in d:\\course\\ibmgenai\\05_rag\\env\\lib\\site-packages (from transformers==4.40.2) (3.18.0)\n",
      "Collecting huggingface-hub<1.0,>=0.19.3 (from transformers==4.40.2)\n",
      "  Downloading huggingface_hub-0.29.3-py3-none-any.whl.metadata (13 kB)\n",
      "Requirement already satisfied: numpy>=1.17 in d:\\course\\ibmgenai\\05_rag\\env\\lib\\site-packages (from transformers==4.40.2) (2.2.4)\n",
      "Requirement already satisfied: packaging>=20.0 in d:\\course\\ibmgenai\\05_rag\\env\\lib\\site-packages (from transformers==4.40.2) (24.2)\n",
      "Collecting pyyaml>=5.1 (from transformers==4.40.2)\n",
      "  Using cached PyYAML-6.0.2-cp312-cp312-win_amd64.whl.metadata (2.1 kB)\n",
      "Requirement already satisfied: regex!=2019.12.17 in d:\\course\\ibmgenai\\05_rag\\env\\lib\\site-packages (from transformers==4.40.2) (2024.11.6)\n",
      "Requirement already satisfied: requests in d:\\course\\ibmgenai\\05_rag\\env\\lib\\site-packages (from transformers==4.40.2) (2.32.3)\n",
      "Collecting tokenizers<0.20,>=0.19 (from transformers==4.40.2)\n",
      "  Using cached tokenizers-0.19.1-cp312-none-win_amd64.whl.metadata (6.9 kB)\n",
      "Collecting safetensors>=0.4.1 (from transformers==4.40.2)\n",
      "  Downloading safetensors-0.5.3-cp38-abi3-win_amd64.whl.metadata (3.9 kB)\n",
      "Requirement already satisfied: tqdm>=4.27 in d:\\course\\ibmgenai\\05_rag\\env\\lib\\site-packages (from transformers==4.40.2) (4.67.1)\n",
      "Requirement already satisfied: fsspec>=2023.5.0 in d:\\course\\ibmgenai\\05_rag\\env\\lib\\site-packages (from huggingface-hub<1.0,>=0.19.3->transformers==4.40.2) (2025.3.0)\n",
      "Requirement already satisfied: typing-extensions>=3.7.4.3 in d:\\course\\ibmgenai\\05_rag\\env\\lib\\site-packages (from huggingface-hub<1.0,>=0.19.3->transformers==4.40.2) (4.12.2)\n",
      "Requirement already satisfied: colorama in d:\\course\\ibmgenai\\05_rag\\env\\lib\\site-packages (from tqdm>=4.27->transformers==4.40.2) (0.4.6)\n",
      "Requirement already satisfied: charset-normalizer<4,>=2 in d:\\course\\ibmgenai\\05_rag\\env\\lib\\site-packages (from requests->transformers==4.40.2) (3.4.1)\n",
      "Requirement already satisfied: idna<4,>=2.5 in d:\\course\\ibmgenai\\05_rag\\env\\lib\\site-packages (from requests->transformers==4.40.2) (3.10)\n",
      "Requirement already satisfied: urllib3<3,>=1.21.1 in d:\\course\\ibmgenai\\05_rag\\env\\lib\\site-packages (from requests->transformers==4.40.2) (2.3.0)\n",
      "Requirement already satisfied: certifi>=2017.4.17 in d:\\course\\ibmgenai\\05_rag\\env\\lib\\site-packages (from requests->transformers==4.40.2) (2025.1.31)\n",
      "Using cached transformers-4.40.2-py3-none-any.whl (9.0 MB)\n",
      "Downloading huggingface_hub-0.29.3-py3-none-any.whl (468 kB)\n",
      "Using cached PyYAML-6.0.2-cp312-cp312-win_amd64.whl (156 kB)\n",
      "Downloading safetensors-0.5.3-cp38-abi3-win_amd64.whl (308 kB)\n",
      "Using cached tokenizers-0.19.1-cp312-none-win_amd64.whl (2.2 MB)\n",
      "Installing collected packages: safetensors, pyyaml, huggingface-hub, tokenizers, transformers\n",
      "Successfully installed huggingface-hub-0.29.3 pyyaml-6.0.2 safetensors-0.5.3 tokenizers-0.19.1 transformers-4.40.2\n"
     ]
    },
    {
     "name": "stderr",
     "output_type": "stream",
     "text": [
      "\n",
      "[notice] A new release of pip is available: 24.3.1 -> 25.0.1\n",
      "[notice] To update, run: python.exe -m pip install --upgrade pip\n"
     ]
    },
    {
     "name": "stdout",
     "output_type": "stream",
     "text": [
      "Collecting matplotlib==3.8.4\n",
      "  Using cached matplotlib-3.8.4-cp312-cp312-win_amd64.whl.metadata (5.9 kB)\n",
      "Collecting contourpy>=1.0.1 (from matplotlib==3.8.4)\n",
      "  Using cached contourpy-1.3.1-cp312-cp312-win_amd64.whl.metadata (5.4 kB)\n",
      "Collecting cycler>=0.10 (from matplotlib==3.8.4)\n",
      "  Using cached cycler-0.12.1-py3-none-any.whl.metadata (3.8 kB)\n",
      "Collecting fonttools>=4.22.0 (from matplotlib==3.8.4)\n",
      "  Using cached fonttools-4.56.0-cp312-cp312-win_amd64.whl.metadata (103 kB)\n",
      "Collecting kiwisolver>=1.3.1 (from matplotlib==3.8.4)\n",
      "  Using cached kiwisolver-1.4.8-cp312-cp312-win_amd64.whl.metadata (6.3 kB)\n",
      "Requirement already satisfied: numpy>=1.21 in d:\\course\\ibmgenai\\05_rag\\env\\lib\\site-packages (from matplotlib==3.8.4) (2.2.4)\n",
      "Requirement already satisfied: packaging>=20.0 in d:\\course\\ibmgenai\\05_rag\\env\\lib\\site-packages (from matplotlib==3.8.4) (24.2)\n",
      "Collecting pillow>=8 (from matplotlib==3.8.4)\n",
      "  Using cached pillow-11.1.0-cp312-cp312-win_amd64.whl.metadata (9.3 kB)\n",
      "Collecting pyparsing>=2.3.1 (from matplotlib==3.8.4)\n",
      "  Using cached pyparsing-3.2.1-py3-none-any.whl.metadata (5.0 kB)\n",
      "Requirement already satisfied: python-dateutil>=2.7 in d:\\course\\ibmgenai\\05_rag\\env\\lib\\site-packages (from matplotlib==3.8.4) (2.9.0.post0)\n",
      "Requirement already satisfied: six>=1.5 in d:\\course\\ibmgenai\\05_rag\\env\\lib\\site-packages (from python-dateutil>=2.7->matplotlib==3.8.4) (1.17.0)\n",
      "Using cached matplotlib-3.8.4-cp312-cp312-win_amd64.whl (7.7 MB)\n",
      "Using cached contourpy-1.3.1-cp312-cp312-win_amd64.whl (220 kB)\n",
      "Using cached cycler-0.12.1-py3-none-any.whl (8.3 kB)\n",
      "Using cached fonttools-4.56.0-cp312-cp312-win_amd64.whl (2.2 MB)\n",
      "Using cached kiwisolver-1.4.8-cp312-cp312-win_amd64.whl (71 kB)\n",
      "Using cached pillow-11.1.0-cp312-cp312-win_amd64.whl (2.6 MB)\n",
      "Using cached pyparsing-3.2.1-py3-none-any.whl (107 kB)\n",
      "Installing collected packages: pyparsing, pillow, kiwisolver, fonttools, cycler, contourpy, matplotlib\n",
      "Successfully installed contourpy-1.3.1 cycler-0.12.1 fonttools-4.56.0 kiwisolver-1.4.8 matplotlib-3.8.4 pillow-11.1.0 pyparsing-3.2.1\n"
     ]
    },
    {
     "name": "stderr",
     "output_type": "stream",
     "text": [
      "\n",
      "[notice] A new release of pip is available: 24.3.1 -> 25.0.1\n",
      "[notice] To update, run: python.exe -m pip install --upgrade pip\n"
     ]
    },
    {
     "name": "stdout",
     "output_type": "stream",
     "text": [
      "Collecting sentencepiece==0.2.0\n",
      "  Using cached sentencepiece-0.2.0-cp312-cp312-win_amd64.whl.metadata (8.3 kB)\n",
      "Using cached sentencepiece-0.2.0-cp312-cp312-win_amd64.whl (991 kB)\n",
      "Installing collected packages: sentencepiece\n",
      "Successfully installed sentencepiece-0.2.0\n"
     ]
    },
    {
     "name": "stderr",
     "output_type": "stream",
     "text": [
      "\n",
      "[notice] A new release of pip is available: 24.3.1 -> 25.0.1\n",
      "[notice] To update, run: python.exe -m pip install --upgrade pip\n"
     ]
    },
    {
     "name": "stdout",
     "output_type": "stream",
     "text": [
      "Collecting scikit-learn==1.4.2\n",
      "  Using cached scikit_learn-1.4.2-cp312-cp312-win_amd64.whl.metadata (11 kB)\n",
      "Requirement already satisfied: numpy>=1.19.5 in d:\\course\\ibmgenai\\05_rag\\env\\lib\\site-packages (from scikit-learn==1.4.2) (2.2.4)\n",
      "Collecting scipy>=1.6.0 (from scikit-learn==1.4.2)\n",
      "  Downloading scipy-1.15.2-cp312-cp312-win_amd64.whl.metadata (60 kB)\n",
      "Requirement already satisfied: joblib>=1.2.0 in d:\\course\\ibmgenai\\05_rag\\env\\lib\\site-packages (from scikit-learn==1.4.2) (1.4.2)\n",
      "Collecting threadpoolctl>=2.0.0 (from scikit-learn==1.4.2)\n",
      "  Downloading threadpoolctl-3.6.0-py3-none-any.whl.metadata (13 kB)\n",
      "Using cached scikit_learn-1.4.2-cp312-cp312-win_amd64.whl (10.6 MB)\n",
      "Downloading scipy-1.15.2-cp312-cp312-win_amd64.whl (40.9 MB)\n",
      "   ---------------------------------------- 0.0/40.9 MB ? eta -:--:--\n",
      "   -- ------------------------------------- 2.9/40.9 MB 21.0 MB/s eta 0:00:02\n",
      "   --------- ------------------------------ 10.2/40.9 MB 30.4 MB/s eta 0:00:02\n",
      "   ------------------- -------------------- 19.9/40.9 MB 37.0 MB/s eta 0:00:01\n",
      "   ------------------------ --------------- 24.6/40.9 MB 33.2 MB/s eta 0:00:01\n",
      "   ---------------------------- ----------- 29.6/40.9 MB 30.8 MB/s eta 0:00:01\n",
      "   ------------------------------ --------- 31.7/40.9 MB 26.8 MB/s eta 0:00:01\n",
      "   -------------------------------- ------- 33.3/40.9 MB 24.0 MB/s eta 0:00:01\n",
      "   ---------------------------------- ----- 35.1/40.9 MB 22.1 MB/s eta 0:00:01\n",
      "   ------------------------------------ --- 37.2/40.9 MB 20.4 MB/s eta 0:00:01\n",
      "   -------------------------------------- - 39.1/40.9 MB 19.2 MB/s eta 0:00:01\n",
      "   ---------------------------------------  40.9/40.9 MB 18.3 MB/s eta 0:00:01\n",
      "   ---------------------------------------- 40.9/40.9 MB 17.8 MB/s eta 0:00:00\n",
      "Downloading threadpoolctl-3.6.0-py3-none-any.whl (18 kB)\n",
      "Installing collected packages: threadpoolctl, scipy, scikit-learn\n",
      "Successfully installed scikit-learn-1.4.2 scipy-1.15.2 threadpoolctl-3.6.0\n"
     ]
    },
    {
     "name": "stderr",
     "output_type": "stream",
     "text": [
      "\n",
      "[notice] A new release of pip is available: 24.3.1 -> 25.0.1\n",
      "[notice] To update, run: python.exe -m pip install --upgrade pip\n"
     ]
    }
   ],
   "source": [
    "!pip install numpy\n",
    "!pip install torch==2.2.0\n",
    "!pip install sacremoses==0.1.1\n",
    "!pip install torchtext\n",
    "!pip install transformers==4.40.2\n",
    "!pip install matplotlib==3.8.4\n",
    "!pip install sentencepiece==0.2.0\n",
    "!pip install scikit-learn==1.4.2"
   ]
  },
  {
   "cell_type": "markdown",
   "id": "f242edfd-1a6b-4b94-8239-1f1e82cb47a8",
   "metadata": {},
   "source": [
    "### Importing required libraries\n"
   ]
  },
  {
   "cell_type": "code",
   "execution_count": 2,
   "id": "1221c16b-3cdb-4ea7-b488-ba23e941115a",
   "metadata": {},
   "outputs": [],
   "source": [
    "from tqdm import tqdm\n",
    "import numpy as np\n",
    "import torch\n",
    "from sklearn.manifold import TSNE\n",
    "import matplotlib.pyplot as plt\n",
    "\n",
    "# You can also use this section to suppress warnings generated by your code:\n",
    "def warn(*args, **kwargs):\n",
    "    pass\n",
    "import warnings\n",
    "warnings.warn = warn\n",
    "warnings.filterwarnings('ignore')"
   ]
  },
  {
   "cell_type": "markdown",
   "id": "de90425d-623f-4161-9caf-e7b151296682",
   "metadata": {},
   "source": [
    "### Defining helper functions\n",
    "\n",
    "The `tsne_plot` function applies t-SNE to reduce high-dimensional data to three dimensions and creates a 3D scatter plot of the results. It sets the `perplexity` to the number of data points minus one, plots each point in a unique color based on its index, and labels the axes for each t-SNE component. The visualization helps in exploring patterns in a 3D space.\n"
   ]
  },
  {
   "cell_type": "code",
   "execution_count": 3,
   "id": "125dce7f-b475-45a5-859e-16af15701bdf",
   "metadata": {},
   "outputs": [],
   "source": [
    "def tsne_plot(data, plot):\n",
    "    # Apply t-SNE to reduce to 3D\n",
    "    tsne = TSNE(n_components=3, random_state=42, perplexity=min(50, data.shape[0] - 1))  # Using 50 or less based on data size\n",
    "    data_3d = tsne.fit_transform(data)\n",
    "    \n",
    "    # Plotting\n",
    "    fig = plt.figure(figsize=(10, 7))\n",
    "    ax = fig.add_subplot(111, projection='3d')\n",
    "    \n",
    "    # Assign colors for each point based on its index\n",
    "    colors = plt.cm.rainbow(np.linspace(0, 1, len(data_3d)))\n",
    "    for idx, point in zip(range(len(data_3d)), data_3d):\n",
    "        ax.scatter(point[0], point[1], point[2], color=colors[idx], label=f'{plot} {idx+1}')\n",
    "    \n",
    "    # Adding labels and titles\n",
    "    ax.set_xlabel('TSNE Component 1')\n",
    "    ax.set_ylabel('TSNE Component 2')\n",
    "    ax.set_zlabel('TSNE Component 3')\n",
    "    plt.title('3D t-SNE Visualization of '+ plot +' Embeddings')\n",
    "    plt.legend(title=plot +' Index', bbox_to_anchor=(1.05, 1), loc='upper left')\n",
    "    plt.show()"
   ]
  },
  {
   "cell_type": "markdown",
   "id": "c89c29d0-c697-49b3-bc8d-433d6bf519d6",
   "metadata": {},
   "source": [
    "# Embeddings using BERT and PyTorch Hub\n",
    "\n",
    "Use PyTorch and the Transformers library by Hugging Face to tokenize text, convert it to embeddings using BERT, and handle these embeddings with a model.\n",
    "\n",
    "## Loading tokenizer and model \n",
    "Let's begin by loading a tokenizer and later a model, both specifically bert-base-uncased. This is done using torch.hub.load, which is a convenient way to load pre-trained models and tokenizers directly from Hugging Face's model hub.\n"
   ]
  },
  {
   "cell_type": "code",
   "execution_count": 5,
   "metadata": {},
   "outputs": [
    {
     "name": "stdout",
     "output_type": "stream",
     "text": [
      "Collecting importlib_metadata\n",
      "  Downloading importlib_metadata-8.6.1-py3-none-any.whl.metadata (4.7 kB)\n",
      "Collecting zipp>=3.20 (from importlib_metadata)\n",
      "  Downloading zipp-3.21.0-py3-none-any.whl.metadata (3.7 kB)\n",
      "Downloading importlib_metadata-8.6.1-py3-none-any.whl (26 kB)\n",
      "Downloading zipp-3.21.0-py3-none-any.whl (9.6 kB)\n",
      "Installing collected packages: zipp, importlib_metadata\n",
      "Successfully installed importlib_metadata-8.6.1 zipp-3.21.0\n"
     ]
    },
    {
     "name": "stderr",
     "output_type": "stream",
     "text": [
      "\n",
      "[notice] A new release of pip is available: 24.3.1 -> 25.0.1\n",
      "[notice] To update, run: python.exe -m pip install --upgrade pip\n"
     ]
    }
   ],
   "source": [
    "!pip install importlib_metadata"
   ]
  },
  {
   "cell_type": "code",
   "execution_count": 6,
   "id": "0b7c02b1-8082-4c6b-bc07-f9c0b6fbe92f",
   "metadata": {},
   "outputs": [
    {
     "name": "stderr",
     "output_type": "stream",
     "text": [
      "Using cache found in C:\\Users\\Admin/.cache\\torch\\hub\\huggingface_pytorch-transformers_main\n"
     ]
    }
   ],
   "source": [
    "tokenizer = torch.hub.load('huggingface/pytorch-transformers', 'tokenizer', 'bert-base-uncased')"
   ]
  },
  {
   "cell_type": "markdown",
   "id": "b63c67b5-dcf7-47e5-9e95-f4c01fd0c623",
   "metadata": {},
   "source": [
    "The input_text variable is set as a list of tuples. \n"
   ]
  },
  {
   "cell_type": "code",
   "execution_count": 7,
   "id": "4ae2654f-f2f5-4198-981e-86cde444f399",
   "metadata": {},
   "outputs": [],
   "source": [
    "# Input text to get embeddings for\n",
    "input_text = [(\"This is an example sentence for BERT embeddings.\", \"How do you like it \"),(\"There are other models\")]"
   ]
  },
  {
   "cell_type": "markdown",
   "id": "24181d03-fe80-4970-acea-d4351f142fae",
   "metadata": {},
   "source": [
    "### Tokenization\n",
    "\n",
    "```batch_encode_plus``` method is used for tokenizing text. It automatically handles padding and truncation to ensure uniformity in input length, which is crucial for batch processing in models like BERT.\n"
   ]
  },
  {
   "cell_type": "code",
   "execution_count": 8,
   "id": "d350b2b9-a684-4c89-bd55-bed9cc7fa80e",
   "metadata": {},
   "outputs": [
    {
     "data": {
      "text/plain": [
       "{'input_ids': [[101, 2023, 2003, 2019, 2742, 6251, 2005, 14324, 7861, 8270, 4667, 2015, 1012, 102, 2129, 2079, 2017, 2066, 2009, 102], [101, 2045, 2024, 2060, 4275, 102, 0, 0, 0, 0, 0, 0, 0, 0, 0, 0, 0, 0, 0, 0]], 'token_type_ids': [[0, 0, 0, 0, 0, 0, 0, 0, 0, 0, 0, 0, 0, 0, 1, 1, 1, 1, 1, 1], [0, 0, 0, 0, 0, 0, 0, 0, 0, 0, 0, 0, 0, 0, 0, 0, 0, 0, 0, 0]], 'attention_mask': [[1, 1, 1, 1, 1, 1, 1, 1, 1, 1, 1, 1, 1, 1, 1, 1, 1, 1, 1, 1], [1, 1, 1, 1, 1, 1, 0, 0, 0, 0, 0, 0, 0, 0, 0, 0, 0, 0, 0, 0]]}"
      ]
     },
     "execution_count": 8,
     "metadata": {},
     "output_type": "execute_result"
    }
   ],
   "source": [
    "input_ids = tokenizer.batch_encode_plus(input_text,add_special_tokens=True,padding=True,truncation=True)\n",
    "input_ids"
   ]
  },
  {
   "cell_type": "markdown",
   "id": "a044c826-bf78-445b-be9f-4b8955ce7e9f",
   "metadata": {},
   "source": [
    "### Text decoding and verification\n",
    "After tokenization, the script decodes the first tokenized input back to text to check the correctness and length of the tokenization process.\n"
   ]
  },
  {
   "cell_type": "code",
   "execution_count": 9,
   "id": "f65aed2a-c3c3-43a9-a236-75ee7a18b61b",
   "metadata": {},
   "outputs": [
    {
     "name": "stdout",
     "output_type": "stream",
     "text": [
      "[CLS] this is an example sentence for bert embeddings. [SEP] how do you like it [SEP]\n",
      "length 16\n"
     ]
    }
   ],
   "source": [
    "text=tokenizer.decode(input_ids['input_ids'][0])\n",
    "print(text)\n",
    "print(f\"length {len(text.split())}\")"
   ]
  },
  {
   "cell_type": "code",
   "execution_count": 10,
   "id": "b6322907-207d-4183-aafc-ff1403db6448",
   "metadata": {},
   "outputs": [
    {
     "data": {
      "text/plain": [
       "[[1, 1, 1, 1, 1, 1, 1, 1, 1, 1, 1, 1, 1, 1, 1, 1, 1, 1, 1, 1],\n",
       " [1, 1, 1, 1, 1, 1, 0, 0, 0, 0, 0, 0, 0, 0, 0, 0, 0, 0, 0, 0]]"
      ]
     },
     "execution_count": 10,
     "metadata": {},
     "output_type": "execute_result"
    }
   ],
   "source": [
    "input_ids['attention_mask']"
   ]
  },
  {
   "cell_type": "markdown",
   "id": "388b6322-9806-4b63-8ae7-75d2039d3f39",
   "metadata": {},
   "source": [
    "\n",
    "When using the BERT tokenizer, the output includes key components that are essential for the model's processing:\n",
    "\n",
    "```input_ids```: A list of token IDs that represent each token in BERT's vocabulary.\n",
    "\n",
    "```token_type_ids```: Indicates which sentence each token belongs to, important for tasks involving sentence pairs.\n",
    "\n",
    "```attention_mask```: Identifies which tokens should be focused on, differentiating real content from padding.\n",
    "\n",
    "\n",
    "Special tokens:\n",
    "\n",
    "[CLS]: Placed at the start of every input for use in classification tasks.\n",
    "\n",
    "[SEP]: Separates sentences in dual-sentence tasks and marks the end of input sequences.\n"
   ]
  },
  {
   "cell_type": "markdown",
   "id": "bca6abc9-5488-4611-ad1d-6a1629a51226",
   "metadata": {},
   "source": [
    "### Device and Convert Tensor\n",
    "Here, you are going to convert the token IDs and attention masks into PyTorch tensors and transfers them to a computing device (DEVICE) for input into BERT. This device should be defined elsewhere in the script (typically as \"cuda\" for GPU or \"cpu\").\n"
   ]
  },
  {
   "cell_type": "code",
   "execution_count": 12,
   "id": "b2741223-f63c-4268-a417-d4fdb7d4ea66",
   "metadata": {},
   "outputs": [
    {
     "data": {
      "text/plain": [
       "device(type='cpu')"
      ]
     },
     "execution_count": 12,
     "metadata": {},
     "output_type": "execute_result"
    }
   ],
   "source": [
    "DEVICE = torch.device(\"cuda\" if torch.cuda.is_available() else \"cpu\")\n",
    "DEVICE"
   ]
  },
  {
   "cell_type": "code",
   "execution_count": 13,
   "id": "dd4b7cde-450e-459f-8838-451c787731d7",
   "metadata": {},
   "outputs": [],
   "source": [
    "input_ids_tensors = torch.tensor(input_ids['input_ids']).to(DEVICE)\n",
    "mask_tensors = torch.tensor(input_ids['attention_mask']).to(DEVICE)"
   ]
  },
  {
   "cell_type": "markdown",
   "id": "632383ce-0dff-42ea-b16e-4a332102a79d",
   "metadata": {},
   "source": [
    "### Loading the BERT model\n",
    "Now, load the BERT model and move it to the same device as the input tensors. The model then processes these inputs to generate embeddings.\n"
   ]
  },
  {
   "cell_type": "code",
   "execution_count": 14,
   "id": "7661776c-ba88-4b66-91df-724b39713254",
   "metadata": {},
   "outputs": [
    {
     "name": "stderr",
     "output_type": "stream",
     "text": [
      "Using cache found in C:\\Users\\Admin/.cache\\torch\\hub\\huggingface_pytorch-transformers_main\n"
     ]
    }
   ],
   "source": [
    "bert_model = torch.hub.load('huggingface/pytorch-transformers', 'model', 'bert-base-uncased')"
   ]
  },
  {
   "cell_type": "code",
   "execution_count": 15,
   "id": "1c2717e0-3ae4-4f8a-8cfa-aa3afb0f9abb",
   "metadata": {},
   "outputs": [
    {
     "data": {
      "text/plain": [
       "BertModel(\n",
       "  (embeddings): BertEmbeddings(\n",
       "    (word_embeddings): Embedding(30522, 768, padding_idx=0)\n",
       "    (position_embeddings): Embedding(512, 768)\n",
       "    (token_type_embeddings): Embedding(2, 768)\n",
       "    (LayerNorm): LayerNorm((768,), eps=1e-12, elementwise_affine=True)\n",
       "    (dropout): Dropout(p=0.1, inplace=False)\n",
       "  )\n",
       "  (encoder): BertEncoder(\n",
       "    (layer): ModuleList(\n",
       "      (0-11): 12 x BertLayer(\n",
       "        (attention): BertAttention(\n",
       "          (self): BertSelfAttention(\n",
       "            (query): Linear(in_features=768, out_features=768, bias=True)\n",
       "            (key): Linear(in_features=768, out_features=768, bias=True)\n",
       "            (value): Linear(in_features=768, out_features=768, bias=True)\n",
       "            (dropout): Dropout(p=0.1, inplace=False)\n",
       "          )\n",
       "          (output): BertSelfOutput(\n",
       "            (dense): Linear(in_features=768, out_features=768, bias=True)\n",
       "            (LayerNorm): LayerNorm((768,), eps=1e-12, elementwise_affine=True)\n",
       "            (dropout): Dropout(p=0.1, inplace=False)\n",
       "          )\n",
       "        )\n",
       "        (intermediate): BertIntermediate(\n",
       "          (dense): Linear(in_features=768, out_features=3072, bias=True)\n",
       "          (intermediate_act_fn): GELUActivation()\n",
       "        )\n",
       "        (output): BertOutput(\n",
       "          (dense): Linear(in_features=3072, out_features=768, bias=True)\n",
       "          (LayerNorm): LayerNorm((768,), eps=1e-12, elementwise_affine=True)\n",
       "          (dropout): Dropout(p=0.1, inplace=False)\n",
       "        )\n",
       "      )\n",
       "    )\n",
       "  )\n",
       "  (pooler): BertPooler(\n",
       "    (dense): Linear(in_features=768, out_features=768, bias=True)\n",
       "    (activation): Tanh()\n",
       "  )\n",
       ")"
      ]
     },
     "execution_count": 15,
     "metadata": {},
     "output_type": "execute_result"
    }
   ],
   "source": [
    "bert_model.to(DEVICE)"
   ]
  },
  {
   "cell_type": "code",
   "execution_count": 16,
   "id": "040fb32a-b1cd-4a15-9916-28308a9bbef9",
   "metadata": {},
   "outputs": [],
   "source": [
    "word_embding=bert_model(input_ids_tensors,mask_tensors)"
   ]
  },
  {
   "cell_type": "markdown",
   "id": "12be6596-088b-4ab7-9196-af5a36330939",
   "metadata": {},
   "source": [
    "### Generating aggregated mean embeddings using BERT for RAG\n",
    "Here, you'll compute aggregated mean embeddings for input sequences using the BERT model you just loaded. It processes each pair of token IDs and attention masks from the input data, extracts word embeddings for non-padded tokens, and calculates their mean. The result is a list of mean embeddings for each sequence, which is then concatenated into a single tensor. This process allows for the generation of simplified yet informative representations of the input sequences, useful for tasks like clustering, similarity search, or as input to downstream models. Each document must be under 512 tokens.\n"
   ]
  },
  {
   "cell_type": "code",
   "execution_count": 17,
   "id": "183274d0-be8e-4db7-bda2-09cbe5eaf072",
   "metadata": {},
   "outputs": [
    {
     "name": "stderr",
     "output_type": "stream",
     "text": [
      "0it [00:00, ?it/s]"
     ]
    },
    {
     "name": "stdout",
     "output_type": "stream",
     "text": [
      "token_ids_tensor shape: torch.Size([1, 20]) torch.Size([1, 20])\n",
      "Word embeddings shape: torch.Size([20, 768])\n",
      "Number of zero padding embeddings: 0\n",
      "valid_embeddings_mask: tensor([True, True, True, True, True, True, True, True, True, True, True, True,\n",
      "        True, True, True, True, True, True, True, True])\n"
     ]
    },
    {
     "name": "stderr",
     "output_type": "stream",
     "text": [
      "2it [00:00,  6.54it/s]"
     ]
    },
    {
     "name": "stdout",
     "output_type": "stream",
     "text": [
      "Word embeddings after zero padding embeddings removed: torch.Size([20, 768])\n",
      "Mean embedding shape: torch.Size([768])\n",
      "token_ids_tensor shape: torch.Size([1, 20]) torch.Size([1, 20])\n",
      "Word embeddings shape: torch.Size([20, 768])\n",
      "Number of zero padding embeddings: 14\n",
      "valid_embeddings_mask: tensor([ True,  True,  True,  True,  True,  True, False, False, False, False,\n",
      "        False, False, False, False, False, False, False, False, False, False])\n",
      "Word embeddings after zero padding embeddings removed: torch.Size([6, 768])\n",
      "Mean embedding shape: torch.Size([768])\n",
      "All mean embeddings shape: torch.Size([2, 768])\n"
     ]
    },
    {
     "name": "stderr",
     "output_type": "stream",
     "text": [
      "\n"
     ]
    }
   ],
   "source": [
    "# Initialize a list to store the mean embeddings for each input sequence\n",
    "aggregated_mean_embeddings = []\n",
    "\n",
    "# Loop over each pair of input_ids and attention_masks\n",
    "for token_ids, attention_mask in tqdm(zip(input_ids['input_ids'], input_ids['attention_mask'])):\n",
    "    # Convert list of token ids and attention mask to tensors\n",
    "    token_ids_tensor = torch.tensor([token_ids]).to(DEVICE)\n",
    "    attention_mask_tensor = torch.tensor([attention_mask]).to(DEVICE)\n",
    "    print(\"token_ids_tensor shape:\",token_ids_tensor.shape, attention_mask_tensor.shape)  # Print the shapes of the input tensors\n",
    "    with torch.no_grad():  # Disable gradient calculations for faster execution\n",
    "        # Retrieve the batch of word embeddings from the BERT model\n",
    "        embeddings = bert_model(token_ids_tensor, attention_mask=attention_mask_tensor)[0].squeeze(0)\n",
    "        print(\"Word embeddings shape:\", embeddings.shape)\n",
    "        \n",
    "        # Count and print the number of zero-padding embeddings\n",
    "        num_zero_paddings = (attention_mask_tensor == 0).sum().item()\n",
    "        print(\"Number of zero padding embeddings:\", num_zero_paddings)\n",
    "        \n",
    "        # Create a mask for positions that are not zero-padded\n",
    "        valid_embeddings_mask = attention_mask_tensor[0] != 0\n",
    "        print(\"valid_embeddings_mask:\",valid_embeddings_mask)\n",
    "        \n",
    "        # Filter out the embeddings corresponding to zero-padded positions\n",
    "        filtered_embeddings = embeddings[valid_embeddings_mask, :]\n",
    "        print(\"Word embeddings after zero padding embeddings removed:\", filtered_embeddings.shape)\n",
    "        \n",
    "        # Compute the mean of the filtered embeddings\n",
    "        mean_embedding = filtered_embeddings.mean(axis=0)\n",
    "        print(\"Mean embedding shape:\", mean_embedding.shape)\n",
    "    \n",
    "        # Append the mean embedding to the list, adding a batch dimension\n",
    "        aggregated_mean_embeddings.append(mean_embedding.unsqueeze(0))\n",
    "\n",
    "# Concatenate all mean embeddings to form a single tensor\n",
    "aggregated_mean_embeddings = torch.cat(aggregated_mean_embeddings)\n",
    "print('All mean embeddings shape:', aggregated_mean_embeddings.shape)"
   ]
  },
  {
   "cell_type": "markdown",
   "id": "f2ad0147-ca24-48fa-80eb-bd855d91d2ed",
   "metadata": {},
   "source": [
    "The above code is converted to the function ```aggregate_embeddings``` that takes token indices and their corresponding attention masks, and uses a BERT model to convert these tokens into word embeddings. It then filters out the embeddings for zero-padded tokens and computes the mean embedding for each sequence. This helps in reducing the dimensionality of the data while retaining the most important information from the embeddings.\n"
   ]
  },
  {
   "cell_type": "code",
   "execution_count": 18,
   "id": "05e74ee0-a5b0-4c56-b3e6-9f286797a106",
   "metadata": {},
   "outputs": [],
   "source": [
    "def aggregate_embeddings(input_ids, attention_masks, bert_model=bert_model):\n",
    "    \"\"\"\n",
    "    Converts token indices and masks to word embeddings, filters out zero-padded embeddings,\n",
    "    and aggregates them by computing the mean embedding for each input sequence.\n",
    "\n",
    "    \"\"\"\n",
    "    mean_embeddings = []\n",
    "    # Process each sequence in the batch\n",
    "    print('number of inputs',len(input_ids))\n",
    "    for input_id, mask in tqdm(zip(input_ids, attention_masks)):\n",
    "        input_ids_tensor = torch.tensor([input_id]).to(DEVICE)\n",
    "        mask_tensor = torch.tensor([mask]).to(DEVICE)\n",
    "\n",
    "        with torch.no_grad():\n",
    "            # Obtain the word embeddings from the BERT model\n",
    "            word_embeddings = bert_model(input_ids_tensor, attention_mask=mask_tensor)[0].squeeze(0)\n",
    "\n",
    "            # Filter out the embeddings at positions where the mask is zero \n",
    "            valid_embeddings_mask=mask_tensor[0] != 0 \n",
    "            valid_embeddings = word_embeddings[valid_embeddings_mask,:]\n",
    "            # Compute the mean of the filtered embeddings\n",
    "            mean_embedding = valid_embeddings.mean(dim=0)\n",
    "            mean_embeddings.append(mean_embedding.unsqueeze(0))\n",
    "\n",
    "    # Concatenate the mean embeddings from all sequences in the batch\n",
    "    aggregated_mean_embeddings = torch.cat(mean_embeddings)\n",
    "    return aggregated_mean_embeddings"
   ]
  },
  {
   "cell_type": "markdown",
   "id": "55b5b569-57f4-4378-bb49-7c8727361f32",
   "metadata": {},
   "source": [
    "Let's further simplify the process with the function ```text_to_emb``` which is designed to convert a list of text strings into their corresponding embeddings using a pre-defined tokenizer and calling ```aggregate_embeddings```.\n"
   ]
  },
  {
   "cell_type": "code",
   "execution_count": 19,
   "id": "636fd334-2ee4-4043-8cdb-ff7e4a3e38b1",
   "metadata": {},
   "outputs": [],
   "source": [
    "def text_to_emb(list_of_text,max_input=512):\n",
    "    data_token_index  = tokenizer.batch_encode_plus(list_of_text, add_special_tokens=True,padding=True,truncation=True,max_length=max_input)\n",
    "    question_embeddings=aggregate_embeddings(data_token_index['input_ids'], data_token_index['attention_mask'])\n",
    "    return question_embeddings"
   ]
  },
  {
   "cell_type": "markdown",
   "id": "2c5539e6-5d9e-4214-b640-e05d7d380960",
   "metadata": {},
   "source": [
    "# Convert questions and the song lyrics into embeddings\n",
    "\n",
    "Let's first convert both the predefined appropriateness questions and the song lyrics into \"RAG embeddings\". Then, you measure the similarity between these embeddings to determine appropriateness:\n"
   ]
  },
  {
   "cell_type": "code",
   "execution_count": 20,
   "id": "543b4617-1e33-4427-974d-c90a9c8dfa55",
   "metadata": {},
   "outputs": [],
   "source": [
    "import re\n",
    "def process_song(song):\n",
    "    # Remove line breaks from the song\n",
    "    song_new = re.sub(r'[\\n]', ' ', song)\n",
    "    \n",
    "    # Remove single quotes from the song\n",
    "    song_new = [song_new.replace(\"\\'\", \"\")]\n",
    "    \n",
    "    return song_new"
   ]
  },
  {
   "cell_type": "markdown",
   "id": "25fa5041-4933-4043-9b03-b60d2b256b12",
   "metadata": {},
   "source": [
    "Here you can find more such sample questions.\n"
   ]
  },
  {
   "cell_type": "code",
   "execution_count": 21,
   "id": "ba08c5b5-43f6-4bd4-920a-caf7bb16239d",
   "metadata": {},
   "outputs": [],
   "source": [
    "song_questions = [\n",
    "    \"Does this song contain any violent themes, such as references to guns, killing, or physical aggression? Example: Does the song describe or promote physical violence, like fighting or shootings?\",\n",
    "    \"Are there any explicit lyrics or bad words used in this song that might be considered offensive or inappropriate? Example: Does the song use language commonly recognized as profanity or derogatory terms?\",\n",
    "    \"Is the overall content of this song suitable for children, considering its themes, language, and messages? Example: Are there elements in the song that could be deemed too mature or unsuitable for young listeners?\",\n",
    "    \"Does this song explicitly mention weapons, such as guns, knives, or other similar items? Example: Are specific types of weapons described or glorified in the lyrics?\",\n",
    "    \"Are the messages conveyed in this song positive and uplifting for children? Example: Does the song promote values like kindness, friendship, and positivity?\",\n",
    "    \"Does this song include any sexual content, references to sexual behavior, or suggestive language? Example: Are there lyrics that explicitly or implicitly discuss sexual themes or experiences?\",\n",
    "    \"Does this song offer any educational value, such as teaching the alphabet, basic math, or other learning content? Example: Are there educational segments in the song that could help children learn fundamental skills like the ABCs or counting?\",\n",
    "    \"Does this song promote emotional resilience and social skills among children? Example: Does the song include themes of overcoming challenges or building friendships?\"\n",
    "]"
   ]
  },
  {
   "cell_type": "markdown",
   "id": "1acb0d2a-9634-4235-83ef-262e069a176c",
   "metadata": {},
   "source": [
    "Let's convert the questions to embeddings.\n"
   ]
  },
  {
   "cell_type": "code",
   "execution_count": 22,
   "id": "f630ad3d-5454-439f-9942-d39379225949",
   "metadata": {},
   "outputs": [
    {
     "name": "stdout",
     "output_type": "stream",
     "text": [
      "number of inputs 8\n"
     ]
    },
    {
     "name": "stderr",
     "output_type": "stream",
     "text": [
      "8it [00:00, 22.05it/s]\n"
     ]
    }
   ],
   "source": [
    "embeddings_questions=street=text_to_emb(song_questions)"
   ]
  },
  {
   "cell_type": "markdown",
   "id": "2bfe70f5-ffe8-43a8-b6b3-766fd7f01961",
   "metadata": {},
   "source": [
    "Let's visualize the question embeddings through a t-SNE plot.\n"
   ]
  },
  {
   "cell_type": "code",
   "execution_count": 23,
   "id": "9af997d7-7776-46ef-82ab-d80045628dc3",
   "metadata": {},
   "outputs": [
    {
     "data": {
      "image/png": "[encoded data removed]",
      "text/plain": [
       "<Figure size 1000x700 with 1 Axes>"
      ]
     },
     "metadata": {},
     "output_type": "display_data"
    }
   ],
   "source": [
    "tsne_plot(embeddings_questions, \"Question\")"
   ]
  },
  {
   "cell_type": "markdown",
   "id": "ec656dc8-e4ae-4f10-aa6b-7b879a6582e8",
   "metadata": {},
   "source": [
    "Let's also develop a set of responses when a song has similar attributes. \n"
   ]
  },
  {
   "cell_type": "code",
   "execution_count": 24,
   "id": "d8c72547-7e43-4389-8c64-8b50c163a348",
   "metadata": {},
   "outputs": [],
   "source": [
    "yes_responses = [\n",
    "    \"Yes, this song contains violent themes, including references to guns, killing, or physical aggression, and is not suitable for children.\",\n",
    "    \"Yes, this song includes explicit lyrics or bad words that might be considered offensive or inappropriate for young audiences.\",\n",
    "    \"No, the overall content of this song is not suitable for children as it includes themes, language, and messages that are too mature or unsuitable for young listeners.\",\n",
    "    \"Yes, this song explicitly mentions weapons, such as guns and knives, which could be disturbing or inappropriate for children’s entertainment.\",\n",
    "    \"Yes, the messages conveyed in this song are positive and uplifting, promoting values like kindness, friendship, and positivity, beneficial for children.\",\n",
    "    \"Yes, this song includes sexual content and references to sexual behavior or suggestive language, which are inappropriate for a child-friendly environment.\",\n",
    "    \"Yes, this song offers significant educational value, including segments that teach the alphabet, basic math, and other learning content, making it both fun and educational for children.\",\n",
    "    \"Yes, this song promotes emotional resilience and social skills, incorporating themes about overcoming challenges and building friendships, which are essential for children's development.\"\n",
    "]"
   ]
  },
  {
   "cell_type": "markdown",
   "id": "f6447db5-3031-42f5-a55e-8ac82f69950e",
   "metadata": {},
   "source": [
    "Convert the responses to their embeddings.\n"
   ]
  },
  {
   "cell_type": "code",
   "execution_count": 25,
   "id": "29f62d58-5d18-45ed-b59f-ddb4f284daf1",
   "metadata": {},
   "outputs": [
    {
     "name": "stdout",
     "output_type": "stream",
     "text": [
      "number of inputs 8\n"
     ]
    },
    {
     "name": "stderr",
     "output_type": "stream",
     "text": [
      "8it [00:00, 25.67it/s]\n"
     ]
    }
   ],
   "source": [
    "embeddings_responses = text_to_emb(yes_responses)"
   ]
  },
  {
   "cell_type": "markdown",
   "id": "655f996b-1eb9-4b6f-9072-29043eeb8aab",
   "metadata": {},
   "source": [
    "Visualize the responses embeddings through a t-SNE plot.\n"
   ]
  },
  {
   "cell_type": "code",
   "execution_count": 26,
   "id": "943734d8-5bcf-43d5-b1cc-44e7f4aac608",
   "metadata": {},
   "outputs": [
    {
     "data": {
      "image/png": "[encoded data removed]",
      "text/plain": [
       "<Figure size 1000x700 with 1 Axes>"
      ]
     },
     "metadata": {},
     "output_type": "display_data"
    }
   ],
   "source": [
    "tsne_plot(embeddings_responses, \"Response\")"
   ]
  },
  {
   "cell_type": "markdown",
   "id": "45c10683-5da3-4399-9572-8a4662f02d3e",
   "metadata": {},
   "source": [
    "Consider the song [Bullet in the Head](https://en.wikipedia.org/wiki/Bullet_in_the_Head_(song)) by the activist group 'Rage Against the Machine'. The band portrays the government's use of media as a tool for population control, drawing stark comparisons between ordinary residents and Alcatraz. This song is clearly geared towards adults and is not appropriate for children due to the explicit language and violent rhetoric, which could be confusing and unsuitable for younger audiences.\n",
    "\n",
    "<span style=\"color:red\">Note: To browse the lyrics you can go to [Bullet in the Head](https://www.google.com/search?q=bullet+in+your+head+lyrics&rlz=1C5GCCM_en&oq=bulet+in+you+head+l&gs_lcrp=EgZjaHJvbWUqCQgBEAAYDRiABDIGCAAQRRg5MgkIARAAGA0YgAQyCQgCEC4YDRiABDIJCAMQABgNGIAEMggIBBAAGBYYHjIICAUQABgWGB4yCAgGEAAYFhgeMggIBxAAGBYYHjIICAgQABgWGB4yCAgJEAAYFhge0gEINjM1NGowajeoAgCwAgA&sourceid=chrome&ie=UTF-8) and then paste the content of the song in below cell and process it as other songs. Also, note that the song lyrics is extremely abusive</span>\n",
    "\n"
   ]
  },
  {
   "cell_type": "code",
   "execution_count": 27,
   "id": "3e492a3f-1ed5-450e-942d-439e0a5e90ad",
   "metadata": {},
   "outputs": [],
   "source": [
    "song_rage = \"\"\"\n",
    "This time the bullet cold rocked ya yeah\n",
    "\n",
    "A yellow ribbon instead of a swastika\n",
    "\n",
    "Nothing proper about ya propaganda\n",
    "\n",
    "Fools follow rules when the set command ya\n",
    "\n",
    "Said it was blue when ya blood was read yeah\n",
    "\n",
    "That's how you got a bullet blasted through ya head\n",
    "\n",
    "Blasted through ya head blasted through ya head\n",
    "\n",
    "\n",
    "I give a shout out to the living dead\n",
    "\n",
    "Who stood and watched as the feds cold centralized\n",
    "\n",
    "\n",
    "So serene on the screen he was mesmerized\n",
    "\n",
    "Cellular the phones sounding a death tone\n",
    "\n",
    "Corporations cold turn ya to stone before ya realize\n",
    "\n",
    "They load the clip in omnicolour\n",
    "\n",
    "Said they pack the 9 they fire it at prime time\n",
    "\n",
    "The sleeping gas every home was like alcatraz\n",
    "\n",
    "And mutha f**kas lost their minds\n",
    "\n",
    "\n",
    "Just victims of the in house drive by\n",
    "\n",
    "\n",
    "They say jump you say how high yeah\n",
    "\n",
    "\n",
    "Just victims of the in house drive by\n",
    "\n",
    "\n",
    "They say jump you say how high\n",
    "\n",
    "\n",
    "Jumping sheld off\n",
    "\n",
    "\n",
    "Yeh just cream for\n",
    "\n",
    "\n",
    "Just victims of the in house drive by\n",
    "\n",
    "\n",
    "They say jump you say how high yeah\n",
    "\n",
    "\n",
    "Just victims of the in house drive by\n",
    "\n",
    "\n",
    "They say jump you say how high\n",
    "\n",
    "\n",
    "Checka checka check it out\n",
    "\n",
    "Load load the clip wow each other\n",
    "\n",
    "Said they pack the 9 they fire it at prime time\n",
    "\n",
    "The sleeping gas every home was like alcatraz\n",
    "\n",
    "And mutha f**kas lost their minds\n",
    "\n",
    "\n",
    "No escape from the mass mind rape\n",
    "\n",
    "Play it again jack and then rewind the tape\n",
    "\n",
    "And then play it again and again and again\n",
    "\n",
    "Until ya mind is locked in\n",
    "\n",
    "Believing all the lies that they're telling ya\n",
    "\n",
    "Buying all the products that they're selling ya\n",
    "\n",
    "\n",
    "They say jump and ya say how high\n",
    "\n",
    "Ya brain dead you got a f**king bullet in ya head\n",
    "\n",
    "\n",
    "Just victims of the in house drive by\n",
    "\n",
    "\n",
    "They say jump you say how high yeah\n",
    "\n",
    "\n",
    "Just victims of the in house drive by\n",
    "\n",
    "\n",
    "They say jump you say how high\n",
    "\n",
    "\n",
    "Ya standing in line believing the lies\n",
    "\n",
    "\n",
    "Ya bowing down to the flag ya got a bullet in ya head\n",
    "\n",
    "\n",
    "Am i standing in line am i believing the lies\n",
    "\n",
    "\n",
    "I'm bowing down to the flag i got a bullet in my head\n",
    "\n",
    "\n",
    "Bullet in ya head bullet in ya head\n",
    "\n",
    "\n",
    "Bullet in ya head bullet in ya head\n",
    "\n",
    "\n",
    "A bullet in ya head a bullet in ya head\n",
    "\n",
    "\n",
    "A bullet in ya head a bullet in ya head\n",
    "\n",
    "\n",
    "A bullet in ya head a bullet in ya head\n",
    "\n",
    "\n",
    "A bullet in ya head a bullet in ya head\n",
    "\n",
    "\n",
    "A bullet in ya head a bullet in ya head\n",
    "\n",
    "\n",
    "A bullet in ya head you gotta bullet in your f**king head\n",
    "\n",
    "\n",
    "Yeah yeah\n",
    "\"\"\""
   ]
  },
  {
   "cell_type": "markdown",
   "id": "db5cb5b5-db70-48c9-b692-6e3cb624984a",
   "metadata": {},
   "source": [
    "After some minor preprocessing of the text, you can generate the RAG embeddings.\n"
   ]
  },
  {
   "cell_type": "code",
   "execution_count": 28,
   "id": "03078f18-ac6e-4436-90a3-4d4f03330dba",
   "metadata": {},
   "outputs": [
    {
     "name": "stdout",
     "output_type": "stream",
     "text": [
      "number of inputs 1\n"
     ]
    },
    {
     "name": "stderr",
     "output_type": "stream",
     "text": [
      "1it [00:00,  3.21it/s]\n"
     ]
    },
    {
     "data": {
      "text/plain": [
       "torch.Size([1, 768])"
      ]
     },
     "execution_count": 28,
     "metadata": {},
     "output_type": "execute_result"
    }
   ],
   "source": [
    "song_rage=process_song(song_rage)\n",
    "embeddings_rage=text_to_emb(song_rage)\n",
    "embeddings_rage.shape"
   ]
  },
  {
   "cell_type": "markdown",
   "id": "eadcf2cd-1517-4a69-a047-cf5c2218dfdc",
   "metadata": {},
   "source": [
    "Now consider the song [Can You Tell Me How to Get to Sesame Street?](https://en.wikipedia.org/wiki/Can_You_Tell_Me_How_to_Get_to_Sesame_Street%3F) — the introductory theme song of a popular children's show. Similar to previous methods, the text is processed to generate RAG embeddings.\n"
   ]
  },
  {
   "cell_type": "code",
   "execution_count": 29,
   "id": "da2fa25f-8da3-4b5c-a1fd-099fb0203157",
   "metadata": {},
   "outputs": [],
   "source": [
    "sesame_street = \"\"\"\n",
    "Sunny day\n",
    "Sweepin' the clouds away\n",
    "On my way to where the air is sweet\n",
    "Can you tell me how to get\n",
    "How to get to Sesame Street?\n",
    "\n",
    "Come and play\n",
    "Everything's A-okay\n",
    "Friendly neighbors there\n",
    "That's where we meet\n",
    "Can you tell me how to get\n",
    "How to get to Sesame Street?\n",
    "\n",
    "It's a magic carpet ride\n",
    "Every door will open wide\n",
    "To happy people like you\n",
    "Happy people like\n",
    "What a beautiful\n",
    "\n",
    "Sunny day\n",
    "Sweepin' the clouds away\n",
    "On my way to where the air is sweet\n",
    "Can you tell me how to get\n",
    "How to get to Sesame Street?\n",
    "How to get to Sesame Street?\n",
    "How to get to Sesame Street?\n",
    "How to get to Sesame Street?\n",
    "How to get to Sesame Street?\n",
    "\"\"\""
   ]
  },
  {
   "cell_type": "code",
   "execution_count": 30,
   "id": "75a3271d-20e2-4a32-89ec-9a13e2518a21",
   "metadata": {},
   "outputs": [
    {
     "name": "stdout",
     "output_type": "stream",
     "text": [
      "number of inputs 1\n"
     ]
    },
    {
     "name": "stderr",
     "output_type": "stream",
     "text": [
      "1it [00:00,  9.80it/s]\n"
     ]
    }
   ],
   "source": [
    "song_sesame_street= process_song(sesame_street)\n",
    "embeddings_sesame_street=text_to_emb(song_sesame_street)"
   ]
  },
  {
   "cell_type": "markdown",
   "id": "0c7fedc2-d5a7-4912-b6c3-6e14a704bd14",
   "metadata": {},
   "source": [
    "Finally, you have the song [Straight Outta Compton](https://en.wikipedia.org/wiki/Straight_Outta_Compton) — a track known for its intense themes, which nearly led to it being banned in the U.S. As with the previous examples, process the lyrics to calculate the word embeddings for a detailed analysis of its content.\n"
   ]
  },
  {
   "cell_type": "markdown",
   "id": "618d7e00-2f58-4ebd-b982-acca74395267",
   "metadata": {},
   "source": [
    "<span style=\"color:red\">Note: To browse the lyrics you can go to [Straight Outta Compton Lyrics](https://www.google.com/search?q=straight+outta+compton+song+lyrics&sca_esv=4f737f0b4de0cae7&sca_upv=1&rlz=1C5GCEM_enUS1092CA1092&sxsrf=ADLYWIIPASIwexxpdt-VqsvSF759A-iolw%3A1724787162733&ei=2inOZsW0LNSp5NoPq_XR6Qw&ved=0ahUKEwjFiZfx9JWIAxXUFFkFHat6NM0Q4dUDCA8&uact=5&oq=straight+outta+compton+song+lyrics&gs_lp=Egxnd3Mtd2l6LXNlcnAiInN0cmFpZ2h0IG91dHRhIGNvbXB0b24gc29uZyBseXJpY3MyCxAAGIAEGJECGIoFMgYQABgWGB4yBhAAGBYYHjIGEAAYFhgeMgsQABiABBiGAxiKBTILEAAYgAQYhgMYigUyCxAAGIAEGIYDGIoFMggQABiABBiiBDIIEAAYgAQYogQyCBAAGKIEGIkFSOQjUPEEWKghcAF4AZABAJgBqQGgAeAKqgEDNi42uAEDyAEA-AEBmAINoAKEC8ICChAAGLADGNYEGEfCAg0QABiABBiwAxhDGIoFwgIOEAAYsAMY5AIY1gTYAQHCAhMQLhiABBiwAxhDGMgDGIoF2AECwgIFEAAYgATCAg0QLhiABBixAxhDGIoFwgIKEAAYgAQYQxiKBcICChAuGIAEGEMYigXCAgUQLhiABMICHRAuGIAEGJcFGNwEGN4EGOAEGPQDGPEDGPUD2AEDwgIIEAAYFhgKGB6YAwCIBgGQBhK6BgYIARABGAm6BgYIAhABGAi6BgYIAxABGBSSBwM1LjigB7GKAQ&sclient=gws-wiz-serp) and then paste the content of the song in below cell and process it as other songs. Also, note that the song lyrics is extremely abusive</span>\n"
   ]
  },
  {
   "cell_type": "code",
   "execution_count": 35,
   "id": "0e1cddb0-a77e-4a5a-ab33-78c981615168",
   "metadata": {},
   "outputs": [],
   "source": [
    "straight_outta_compton_lyrics = \"\"\"\n",
    "You are now about to witness the strength of street knowledge\n",
    "Straight outta Compton, crazy motherfucker named Ice Cube\n",
    "From the gang called Niggaz With Attitudes\n",
    "When I'm called off, I got a sawed off\n",
    "Squeeze the trigger, and bodies are hauled off\n",
    "You too, boy, if ya fuck with me\n",
    "The police are gonna have to come and get me\n",
    "Off yo' ass, that's how I'm goin' out\n",
    "For the punk motherfuckers, that's showin' out\n",
    "Niggas start to mumble, they wanna rumble\n",
    "Mix 'em and cook 'em in a pot like gumbo\n",
    "Goin' off on a motherfucker like that\n",
    "With a gat that's pointed at yo' ass\n",
    "So give it up smooth\n",
    "Ain't no tellin' when I'm down for a jack move\n",
    "Here's a murder rap to keep yo' dancin'\n",
    "With a crime record like Charles Manson\n",
    "AK-47 is the tool\n",
    "Don't make me act the motherfuckin' fool\n",
    "Me you can go toe to toe, no maybe\n",
    "I'm knockin' niggas out tha box daily\n",
    "Yo, weekly, monthly and yearly\n",
    "Until them dumb motherfuckers see clearly\n",
    "That I'm down with the capital C-P-T\n",
    "Boy, you can't fuck with me\n",
    "So when I'm in your neighborhood, you better duck\n",
    "'Cause Ice Cube is crazy as fuck\n",
    "As I leave, believe I'm stompin'\n",
    "But when I come back, boy, I'm comin' straight outta Compton\n",
    "Yo, Ren\n",
    "Whassup?\n",
    "Tell 'em where you from!\n",
    "Straight outta Compton, another crazy ass nigga\n",
    "More punks I smoke, yo, my rep gets bigger\n",
    "I'm a bad motherfucker and you know this\n",
    "But the pussy ass niggas don't show this\n",
    "But I don't give a fuck, I'ma make my snaps\n",
    "If not from the records, from jackin' the crops\n",
    "Just like burglary, the definition is jackin'\n",
    "And when illegally armed, it's called 'packin'\n",
    "Shoot a motherfucker in a minute\n",
    "I find a good piece o' pussy, I go up in it\n",
    "So if you're at a show in the front row\n",
    "I'ma call you a bitch or dirty-ass ho\n",
    "You'll probably get mad like a bitch is supposed to\n",
    "But that shows me, slut, you're composed to\n",
    "A crazy motherfucker from the street\n",
    "Attitude legit 'cause I'm tearin' up shit\n",
    "MC Ren controls the automatic\n",
    "For any dumb motherfucker that starts static\n",
    "Not the right-hand 'cause I'm the hand itself\n",
    "Every time I pull a AK off the shelf\n",
    "The security is maximum and that's a law\n",
    "R-E-N spells Ren but I'm raw\n",
    "See, 'cause I'm the motherfuckin' villain\n",
    "The definition is clear, you're the witness of a killin'\n",
    "That's takin' place without a clue\n",
    "And once you're on the scope, your ass is through\n",
    "Look, you might take it as a trip\n",
    "But a nigga like Ren is on a gangsta tip\n",
    "Straight outta Compton\n",
    "Eazy is his name, and the boy is comin'\n",
    "Straight outta Compton\n",
    "Is a brother that'll smother yo' mother\n",
    "And make ya sister think I love her\n",
    "Dangerous motherfucker raises hell\n",
    "And if I ever get caught, I make bail\n",
    "See, I don't give a fuck, that's the problem\n",
    "I see a motherfuckin' cop, I don't dodge him\n",
    "But I'm smart, lay low, creep a while\n",
    "And when I see a punk pass, I smile\n",
    "To me, it's kinda funny, the attitude showin' a nigga drivin'\n",
    "But don't know where the fuck he's going, just rollin'\n",
    "Lookin' for the one they call Eazy\n",
    "But here's a flash, they never seize me\n",
    "Ruthless! Never seen like a shadow in the dark\n",
    "Except when I unload, see I'll get over the hesitation\n",
    "And hear the scream of the one who got the last penetration\n",
    "Give a little gust of wind and I'm jettin'\n",
    "But leave a memory no one'll be forgettin'\n",
    "So what about the bitch who got shot? Fuck her!\n",
    "You think I give a damn about a bitch? I ain't a sucker!\n",
    "This is the autobiography of the E, and if you ever fuck with me\n",
    "You'll get taken by a stupid dope brother who will smother\n",
    "Word to the motherfucker, straight outta Compton\n",
    "Damn, that shit was dope!\n",
    "\"\"\""
   ]
  },
  {
   "cell_type": "code",
   "execution_count": 36,
   "id": "b62fa630-9db5-4f8f-9d24-05bbb4c6237b",
   "metadata": {},
   "outputs": [
    {
     "name": "stdout",
     "output_type": "stream",
     "text": [
      "number of inputs 1\n"
     ]
    },
    {
     "name": "stderr",
     "output_type": "stream",
     "text": [
      "0it [00:00, ?it/s]"
     ]
    },
    {
     "name": "stderr",
     "output_type": "stream",
     "text": [
      "1it [00:00,  4.03it/s]\n"
     ]
    }
   ],
   "source": [
    "straight_outta_compton_lyrics= process_song(straight_outta_compton_lyrics)\n",
    "embeddings_compton=text_to_emb(straight_outta_compton_lyrics)"
   ]
  },
  {
   "cell_type": "markdown",
   "id": "57c6b75b-e54f-45a8-97ea-220772f17e25",
   "metadata": {},
   "source": [
    "Let's consider one more song.\n"
   ]
  },
  {
   "cell_type": "code",
   "execution_count": 37,
   "id": "64133b16-4edf-4d91-9e3f-2b2aae41935e",
   "metadata": {},
   "outputs": [],
   "source": [
    "my_shoe_lyrics=\"\"\"Barney is a dinosaur from our imagination\n",
    "And when he's tall\n",
    "He's what we call a dinosaur sensation\n",
    "Barney's friends are big and small\n",
    "They come from lots of places\n",
    "After school they meet to play\n",
    "And sing with happy faces\n",
    "Barney shows us lots of things\n",
    "Like how to play pretend\n",
    "ABC's, and 123's\n",
    "And how to be a friend\n",
    "Barney comes to play with us\n",
    "Whenever we may need him\n",
    "Barney can be your friend too\n",
    "If you just make-believe him!\"\"\""
   ]
  },
  {
   "cell_type": "code",
   "execution_count": 38,
   "id": "b0ab9f45-f10a-4253-a4f7-d2138ddfc26e",
   "metadata": {},
   "outputs": [
    {
     "name": "stdout",
     "output_type": "stream",
     "text": [
      "number of inputs 1\n"
     ]
    },
    {
     "name": "stderr",
     "output_type": "stream",
     "text": [
      "1it [00:00, 13.08it/s]\n"
     ]
    }
   ],
   "source": [
    "my_shoe_lyrics= process_song(my_shoe_lyrics)\n",
    "embeddings_my_shoe=text_to_emb(my_shoe_lyrics)"
   ]
  },
  {
   "cell_type": "markdown",
   "id": "01ccd00f-f7ae-48ed-a1a1-c5eb2d62e650",
   "metadata": {},
   "source": [
    "Let's create a single array from the embeddings of the songs you have till now and plot it through the tsne_plot\n"
   ]
  },
  {
   "cell_type": "code",
   "execution_count": 39,
   "id": "aa151fe7-7566-42af-95c1-6f09d44241a4",
   "metadata": {},
   "outputs": [
    {
     "name": "stdout",
     "output_type": "stream",
     "text": [
      "number of inputs 1\n"
     ]
    },
    {
     "name": "stderr",
     "output_type": "stream",
     "text": [
      "1it [00:00,  3.97it/s]\n"
     ]
    },
    {
     "name": "stdout",
     "output_type": "stream",
     "text": [
      "number of inputs 1\n"
     ]
    },
    {
     "name": "stderr",
     "output_type": "stream",
     "text": [
      "1it [00:00, 12.37it/s]\n"
     ]
    },
    {
     "name": "stdout",
     "output_type": "stream",
     "text": [
      "number of inputs 1\n"
     ]
    },
    {
     "name": "stderr",
     "output_type": "stream",
     "text": [
      "1it [00:00,  4.44it/s]\n"
     ]
    },
    {
     "name": "stdout",
     "output_type": "stream",
     "text": [
      "number of inputs 1\n"
     ]
    },
    {
     "name": "stderr",
     "output_type": "stream",
     "text": [
      "1it [00:00, 16.77it/s]\n"
     ]
    }
   ],
   "source": [
    "songs = [song_rage, song_sesame_street, straight_outta_compton_lyrics, my_shoe_lyrics]\n",
    "embeddings = [text_to_emb(song) for song in songs]\n",
    "all_embeddings = np.vstack(embeddings)"
   ]
  },
  {
   "cell_type": "code",
   "execution_count": 40,
   "id": "7c96f74c-8699-482c-9756-01fb6f63676f",
   "metadata": {},
   "outputs": [
    {
     "data": {
      "image/png": "[encoded data removed]",
      "text/plain": [
       "<Figure size 1000x700 with 1 Axes>"
      ]
     },
     "metadata": {},
     "output_type": "display_data"
    }
   ],
   "source": [
    "tsne_plot(all_embeddings, \"Song\")"
   ]
  },
  {
   "cell_type": "markdown",
   "id": "71d9ce19-53c8-47c8-bf78-c15ea248fdbc",
   "metadata": {},
   "source": [
    "# Understanding the dot product\n",
    "\n",
    "The dot product of two vectors, $\\mathbf{a}$ and $\\mathbf{b}$, each with components $a_i$ and $b_i$, is a fundamental operation in linear algebra calculated as follows:\n",
    "\n",
    "$\\mathbf{a} \\cdot \\mathbf{b} = \\sum_{i=1}^{n} a_i b_i$\n",
    "\n",
    "This calculation results in a single scalar value. Geometrically, the dot product quantifies how much one vector projects onto another or how close they are to eachother.\n",
    "\n",
    "Now, consider the matrix $A$, where each row is the RAG embeddings. In the context of matrix multiplication involving a dot product, if $A$ is a matrix and $\\mathbf{b}$ is a vector, then $A\\mathbf{b}$ computes the dot product of $\\mathbf{b}$ with each row of $A$. In this scenario, each vector in $A$ is treated as a row vector. Here, $A$ represents `embeddings_questions`, while `embeddings_rage` is the RAG vector $\\mathbf{b}$. The output is a column tensor that measures how closely each RAG vector for the questions aligns with the song.\n"
   ]
  },
  {
   "cell_type": "code",
   "execution_count": 41,
   "id": "7d0063db-7dfd-485e-8d57-16f0de03a96e",
   "metadata": {},
   "outputs": [],
   "source": [
    "dot_product = embeddings_questions@embeddings_rage.T"
   ]
  },
  {
   "cell_type": "markdown",
   "id": "9dd055a3-debb-420b-85e7-7414b2e4fc29",
   "metadata": {},
   "source": [
    "Reshape the tensor for processing.\n"
   ]
  },
  {
   "cell_type": "code",
   "execution_count": 42,
   "id": "0351a280-b145-428b-9f0b-22b5e6efc1c7",
   "metadata": {},
   "outputs": [],
   "source": [
    "dot_product = dot_product.reshape(-1)"
   ]
  },
  {
   "cell_type": "markdown",
   "id": "a53b87e1-5df7-4119-b32a-b19d04737e9f",
   "metadata": {},
   "source": [
    "You can find the questions that are closest to the song by sorting them and converting the result to a list.\n"
   ]
  },
  {
   "cell_type": "code",
   "execution_count": 43,
   "id": "63235c7f-ef69-4482-a125-a06c864488f6",
   "metadata": {},
   "outputs": [],
   "source": [
    "sorted_indices = torch.argsort(dot_product,descending=True)\n",
    "sorted_indices=sorted_indices.tolist()"
   ]
  },
  {
   "cell_type": "markdown",
   "id": "2a9b3364-758e-4b1f-9a4d-e968e1d53a59",
   "metadata": {},
   "source": [
    "The nearest vectors corresponding to the best response can be printed in the following manner. For simplicity, use the topmost response using ``yes_responses``.\n"
   ]
  },
  {
   "cell_type": "code",
   "execution_count": 44,
   "id": "210c27c7-57be-4a18-8695-eba77ea3be53",
   "metadata": {},
   "outputs": [
    {
     "name": "stdout",
     "output_type": "stream",
     "text": [
      "Yes, this song includes explicit lyrics or bad words that might be considered offensive or inappropriate for young audiences.\n",
      "Yes, this song explicitly mentions weapons, such as guns and knives, which could be disturbing or inappropriate for children’s entertainment.\n",
      "Yes, this song includes sexual content and references to sexual behavior or suggestive language, which are inappropriate for a child-friendly environment.\n"
     ]
    }
   ],
   "source": [
    "for indices in  sorted_indices[0:3]:\n",
    "    print(yes_responses[indices])"
   ]
  },
  {
   "cell_type": "markdown",
   "id": "abcaaa72-4391-4121-95ec-d133f11b7fb1",
   "metadata": {},
   "source": [
    "Now, convert the above to a function where you only input the embeddings. \n"
   ]
  },
  {
   "cell_type": "code",
   "execution_count": 45,
   "id": "2e38ed32-79d8-407a-9768-29e6472541d6",
   "metadata": {},
   "outputs": [],
   "source": [
    "def RAG_QA(embeddings_questions, embeddings, n_responses=3):\n",
    "    # Calculate the dot product between the question embeddings and the provided embeddings (transpose of the second matrix for proper alignment).\n",
    "    dot_product = embeddings_questions @ embeddings.T\n",
    "\n",
    "    # Reshape the dot product results to a 1D tensor for easier processing.\n",
    "    dot_product = dot_product.reshape(-1)\n",
    "\n",
    "    # Sort the indices of the dot product results in descending order (setting descending to False should be True for typical similarity tasks).\n",
    "    sorted_indices = torch.argsort(dot_product, descending=True)\n",
    "\n",
    "    # Convert sorted indices to a list for easier iteration.\n",
    "    sorted_indices = sorted_indices.tolist()\n",
    "\n",
    "    # Print the top 'n_responses' responses from the sorted list, which correspond to the highest dot product values.\n",
    "    for index in sorted_indices[:n_responses]:\n",
    "        print(yes_responses[index])"
   ]
  },
  {
   "cell_type": "markdown",
   "id": "6114d410-925a-4976-9095-6d60dd1cfa2f",
   "metadata": {},
   "source": [
    "Now, use the ```RAG_QA``` for the songs defined above to see the top three responses by RAG.\n"
   ]
  },
  {
   "cell_type": "code",
   "execution_count": 46,
   "id": "340964ea-9ebb-4895-a072-078d53fa33e6",
   "metadata": {},
   "outputs": [
    {
     "name": "stdout",
     "output_type": "stream",
     "text": [
      "Yes, the messages conveyed in this song are positive and uplifting, promoting values like kindness, friendship, and positivity, beneficial for children.\n",
      "Yes, this song offers significant educational value, including segments that teach the alphabet, basic math, and other learning content, making it both fun and educational for children.\n",
      "Yes, this song includes explicit lyrics or bad words that might be considered offensive or inappropriate for young audiences.\n"
     ]
    }
   ],
   "source": [
    "RAG_QA(embeddings_questions, embeddings_sesame_street)"
   ]
  },
  {
   "cell_type": "code",
   "execution_count": 47,
   "id": "4ac996df-4e7f-402b-827b-4b3e5ffc7f61",
   "metadata": {},
   "outputs": [
    {
     "name": "stdout",
     "output_type": "stream",
     "text": [
      "Yes, this song includes explicit lyrics or bad words that might be considered offensive or inappropriate for young audiences.\n",
      "Yes, this song contains violent themes, including references to guns, killing, or physical aggression, and is not suitable for children.\n",
      "Yes, this song includes sexual content and references to sexual behavior or suggestive language, which are inappropriate for a child-friendly environment.\n"
     ]
    }
   ],
   "source": [
    "RAG_QA(embeddings_questions, embeddings_compton)"
   ]
  },
  {
   "cell_type": "code",
   "execution_count": 48,
   "id": "d1fdd0b9-f7c7-40cf-b3a7-7ca9e6f62bf0",
   "metadata": {},
   "outputs": [
    {
     "name": "stdout",
     "output_type": "stream",
     "text": [
      "Yes, this song offers significant educational value, including segments that teach the alphabet, basic math, and other learning content, making it both fun and educational for children.\n",
      "Yes, this song includes explicit lyrics or bad words that might be considered offensive or inappropriate for young audiences.\n",
      "Yes, the messages conveyed in this song are positive and uplifting, promoting values like kindness, friendship, and positivity, beneficial for children.\n"
     ]
    }
   ],
   "source": [
    "RAG_QA(embeddings_questions, embeddings_my_shoe)"
   ]
  },
  {
   "cell_type": "markdown",
   "id": "ac2e5e81-64de-4d5a-b87e-5ec0efad91b6",
   "metadata": {},
   "source": [
    "## Exercise\n",
    "\n",
    "In many machine learning and natural language processing tasks, measuring the similarity between vectors is crucial. While the dot product is a common measure, it considers both the magnitude and direction of the vectors. In contrast, **cosine similarity** measures the cosine of the angle between two vectors, providing a similarity value that purely reflects their orientation in space regardless of their magnitude. This makes cosine similarity particularly useful in text processing where only the directionality of the vectors (i.e., the orientation of the words in the vector space) matters, not their length.\n",
    "\n",
    "Your task is to modify the `RAG_QA()` function, which currently uses the dot product to find the most relevant responses to a given query. You will replace the dot product with cosine similarity to improve the function's ability to determine response relevance based solely on the direction of the vectors.\n",
    "\n",
    "### Task description\n",
    "1. **Modify the function**: Replace the dot product calculation in the `RAG_QA()` function with cosine similarity. Remember, cosine similarity is defined as:\n",
    "\n",
    "   $\n",
    "   \\text{Cosine Similarity} = \\frac{\\mathbf{A} \\cdot \\mathbf{B}}{\\|\\mathbf{A}\\| \\|\\mathbf{B}\\|}\n",
    "   $\n",
    "\n",
    "   where:\n",
    "   - $\\mathbf{A} \\cdot \\mathbf{B}$ is the dot product of vectors $\\mathbf{A}$ and $\\mathbf{B}$,\n",
    "   - $\\|\\mathbf{A}\\|$ and $\\|\\mathbf{B}\\|$ are the norms (or magnitudes) of vectors $\\mathbf{A}$ and $\\mathbf{B}$ respectively.\n",
    "\n",
    "2. **Calculate norms**: Compute the norms of the question embeddings and the response embeddings.\n",
    "\n",
    "3. **Compute cosine similarity**: Adjust the computation of similarity by dividing the dot product by the product of the norms of the question and response embeddings.\n",
    "\n",
    "4. **Sort and select responses**: After computing the cosine similarities, sort the responses based on these values and select the top responses as done currently with the dot product.\n"
   ]
  },
  {
   "cell_type": "code",
   "execution_count": 49,
   "id": "66f97a3c-15ad-404b-8722-1f9b5e7e2709",
   "metadata": {},
   "outputs": [
    {
     "name": "stdout",
     "output_type": "stream",
     "text": [
      "Yes, this song offers significant educational value, including segments that teach the alphabet, basic math, and other learning content, making it both fun and educational for children.\n",
      "Yes, the messages conveyed in this song are positive and uplifting, promoting values like kindness, friendship, and positivity, beneficial for children.\n",
      "No, the overall content of this song is not suitable for children as it includes themes, language, and messages that are too mature or unsuitable for young listeners.\n"
     ]
    }
   ],
   "source": [
    "def RAG_QA_cosine(embeddings, n_responses=3):\n",
    "    # Calculate the magnitudes (norms) of the question and response embeddings\n",
    "    question_norms = torch.norm(embeddings_questions, dim=1, keepdim=True)\n",
    "    response_norms = torch.norm(embeddings, dim=1, keepdim=True)\n",
    "    \n",
    "    # Calculate the dot product between the question embeddings and the provided embeddings (transpose of the second matrix for proper alignment)\n",
    "    dot_product = torch.mm(embeddings_questions, embeddings.T)\n",
    "    \n",
    "    # Calculate cosine similarity by dividing the dot product by the product of the magnitudes\n",
    "    cosine_similarity = dot_product / (question_norms * response_norms.T)\n",
    "    \n",
    "    # Flatten the cosine similarity tensor to a 1D tensor for easier processing\n",
    "    cosine_similarity = cosine_similarity.reshape(-1)\n",
    "    \n",
    "    # Sort the indices of the cosine similarity results in descending order to get the indices with the highest similarity\n",
    "    sorted_indices = torch.argsort(cosine_similarity, descending=True)\n",
    "    \n",
    "    # Convert sorted indices to a list for easier iteration\n",
    "    sorted_indices = sorted_indices.tolist()\n",
    "    \n",
    "    # Print the top 'n_responses' responses from the sorted list, which correspond to the highest cosine similarity values\n",
    "    for index in sorted_indices[:n_responses]:\n",
    "        print(yes_responses[index])  # Ensure 'responses' is defined and accessible in your scope\n",
    "\n",
    "RAG_QA_cosine(embeddings_my_shoe, n_responses=3)"
   ]
  },
  {
   "cell_type": "markdown",
   "id": "577f2577-699e-46c0-9a52-90518d7753bc",
   "metadata": {},
   "source": [
    "<details>\n",
    "    <summary>Click here for Solution</summary>\n",
    "\n",
    "```python\n",
    "def RAG_QA_cosine(embeddings, n_responses=3):\n",
    "    # Calculate the magnitudes (norms) of the question and response embeddings\n",
    "    question_norms = torch.norm(embeddings_questions, dim=1, keepdim=True)\n",
    "    response_norms = torch.norm(embeddings, dim=1, keepdim=True)\n",
    "    \n",
    "    # Calculate the dot product between the question embeddings and the provided embeddings (transpose of the second matrix for proper alignment)\n",
    "    dot_product = torch.mm(embeddings_questions, embeddings.T)\n",
    "    \n",
    "    # Calculate cosine similarity by dividing the dot product by the product of the magnitudes\n",
    "    cosine_similarity = dot_product / (question_norms * response_norms.T)\n",
    "    \n",
    "    # Flatten the cosine similarity tensor to a 1D tensor for easier processing\n",
    "    cosine_similarity = cosine_similarity.reshape(-1)\n",
    "    \n",
    "    # Sort the indices of the cosine similarity results in descending order to get the indices with the highest similarity\n",
    "    sorted_indices = torch.argsort(cosine_similarity, descending=True)\n",
    "    \n",
    "    # Convert sorted indices to a list for easier iteration\n",
    "    sorted_indices = sorted_indices.tolist()\n",
    "    \n",
    "    # Print the top 'n_responses' responses from the sorted list, which correspond to the highest cosine similarity values\n",
    "    for index in sorted_indices[:n_responses]:\n",
    "        print(yes_responses[index])  # Ensure 'responses' is defined and accessible in your scope\n",
    "\n",
    "RAG_QA_cosine(embeddings_my_shoe, n_responses=3)\n",
    "```\n",
    "\n",
    "</details>\n"
   ]
  },
  {
   "cell_type": "markdown",
   "id": "30418809-dc7a-4be1-80bb-073d362a9615",
   "metadata": {},
   "source": [
    "---\n"
   ]
  },
  {
   "cell_type": "markdown",
   "id": "1b683c56-b1db-47dc-9640-41955617eae1",
   "metadata": {},
   "source": [
    "## Congratulations! You have completed the lab\n"
   ]
  },
  {
   "cell_type": "markdown",
   "id": "553c4935-2aff-4951-a447-344763bdd900",
   "metadata": {},
   "source": [
    "## Authors\n"
   ]
  },
  {
   "cell_type": "markdown",
   "id": "cc422b80-eaae-4814-af3a-9ae01146d109",
   "metadata": {},
   "source": [
    "[Joseph Santarcangelo](https://author.skills.network/instructors/joseph_santarcangelo) has a Ph.D. in Electrical Engineering, his research focused on using machine learning, signal processing, and computer vision to determine how videos impact human cognition. Joseph has been working for IBM since he completed his Ph.D.\n"
   ]
  },
  {
   "cell_type": "markdown",
   "id": "dd98c86f-5288-45bd-b3d7-49403030d2ce",
   "metadata": {},
   "source": [
    "[Ashutosh Sagar](https://www.linkedin.com/in/ashutoshsagar/) is completing his MS in CS from Dalhousie University. He has previous experience working with Natural Language Processing and as a Data Scientist.\n"
   ]
  },
  {
   "cell_type": "markdown",
   "id": "1a49c35f-c082-4969-8397-0f494255f58b",
   "metadata": {},
   "source": [
    "© Copyright IBM Corporation. All rights reserved.\n"
   ]
  }
 ],
 "metadata": {
  "kernelspec": {
   "display_name": "Python 3",
   "language": "python",
   "name": "python3"
  },
  "language_info": {
   "codemirror_mode": {
    "name": "ipython",
    "version": 3
   },
   "file_extension": ".py",
   "mimetype": "text/x-python",
   "name": "python",
   "nbconvert_exporter": "python",
   "pygments_lexer": "ipython3",
   "version": "3.12.9"
  },
  "prev_pub_hash": "026dc30184f526c5d1d92d717db504b17d0f51258f6f8ea9f5eb5f28e4ad8819"
 },
 "nbformat": 4,
 "nbformat_minor": 4
}
